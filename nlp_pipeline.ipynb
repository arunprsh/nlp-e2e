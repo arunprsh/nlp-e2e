{
 "cells": [
  {
   "cell_type": "markdown",
   "metadata": {},
   "source": [
    "# Create and orchestrate NLP workflow using SageMaker Pipelines "
   ]
  },
  {
   "cell_type": "markdown",
   "metadata": {},
   "source": [
    "## 1. Setup"
   ]
  },
  {
   "cell_type": "code",
   "execution_count": 1,
   "metadata": {},
   "outputs": [],
   "source": [
    "%%capture\n",
    "\n",
    "!pip install --upgrade sagemaker"
   ]
  },
  {
   "cell_type": "markdown",
   "metadata": {},
   "source": [
    "### Imports "
   ]
  },
  {
   "cell_type": "code",
   "execution_count": 2,
   "metadata": {},
   "outputs": [],
   "source": [
    "from sagemaker.workflow.parameters import ParameterInteger, ParameterFloat, ParameterString\n",
    "from sagemaker.workflow.steps import ProcessingStep, TrainingStep\n",
    "from sagemaker.sklearn.processing import SKLearnProcessor\n",
    "from sagemaker.workflow.pipeline import Pipeline\n",
    "from sagemaker.huggingface import HuggingFace\n",
    "from sagemaker.inputs import TrainingInput\n",
    "from time import gmtime, strftime\n",
    "import pandas as pd\n",
    "import sagemaker\n",
    "import logging\n",
    "import boto3\n",
    "import json\n",
    "import os"
   ]
  },
  {
   "cell_type": "code",
   "execution_count": 3,
   "metadata": {},
   "outputs": [],
   "source": [
    "logger = logging.getLogger('__name__')\n",
    "logger.setLevel(logging.DEBUG)\n",
    "logger.addHandler(logging.StreamHandler())"
   ]
  },
  {
   "cell_type": "code",
   "execution_count": 4,
   "metadata": {},
   "outputs": [
    {
     "name": "stderr",
     "output_type": "stream",
     "text": [
      "Using SageMaker: 2.49.0\n"
     ]
    }
   ],
   "source": [
    "logger.info(f'Using SageMaker: {sagemaker.__version__}')"
   ]
  },
  {
   "cell_type": "code",
   "execution_count": 5,
   "metadata": {},
   "outputs": [],
   "source": [
    "session = sagemaker.Session()\n",
    "bucket = session.default_bucket()\n",
    "role = sagemaker.get_execution_role()\n",
    "region = boto3.Session().region_name\n",
    "s3_client = boto3.client('s3', region_name=region)\n",
    "\n",
    "current_timestamp = strftime('%m-%d-%H-%M', gmtime())\n",
    "pipeline_name = f'nlp-pipeline-{current_timestamp}'"
   ]
  },
  {
   "cell_type": "code",
   "execution_count": 6,
   "metadata": {},
   "outputs": [
    {
     "name": "stderr",
     "output_type": "stream",
     "text": [
      "Bucket name = sagemaker-us-east-1-892313895307\n",
      "Region = us-east-1\n",
      "Role = arn:aws:iam::892313895307:role/service-role/AmazonSageMaker-ExecutionRole-20210714T091788\n"
     ]
    }
   ],
   "source": [
    "logger.info(f'Bucket name = {bucket}')\n",
    "logger.info(f'Region = {region}')\n",
    "logger.info(f'Role = {role}')"
   ]
  },
  {
   "cell_type": "markdown",
   "metadata": {},
   "source": [
    "## 2. Define pipeline parameters "
   ]
  },
  {
   "cell_type": "code",
   "execution_count": 7,
   "metadata": {},
   "outputs": [],
   "source": [
    "training_instance_count = ParameterInteger(name='TrainingInstanceCount', default_value=1)\n",
    "training_instance_type = ParameterString(name='TrainingInstanceType', default_value='ml.p3.2xlarge')\n",
    "deployment_instance_count = ParameterInteger(name='DeploymentInstanceCount', default_value=2)\n",
    "deployment_instance_type = ParameterString(name='DeploymentInstanceType', default_value='ml.m5.4xlarge')\n",
    "trained_model_s3_uri = ParameterString(name='TrainedModelS3Uri', default_value=f's3://{bucket}/pipeline/model')"
   ]
  },
  {
   "cell_type": "markdown",
   "metadata": {},
   "source": [
    "## 3. Define training step"
   ]
  },
  {
   "cell_type": "code",
   "execution_count": 8,
   "metadata": {},
   "outputs": [],
   "source": [
    "hyperparameters={'epochs': 1,\n",
    "                 'train_batch_size': 16,\n",
    "                 'model_name':'distilbert-base-uncased',\n",
    "                 'model_s3': trained_model_s3_uri.default_value,\n",
    "                 'output_dir':'/opt/ml/checkpoints'}"
   ]
  },
  {
   "cell_type": "code",
   "execution_count": 9,
   "metadata": {},
   "outputs": [],
   "source": [
    "huggingface_estimator = HuggingFace(entry_point='train.py',\n",
    "                            source_dir='./src',\n",
    "                            instance_type=training_instance_type.default_value,\n",
    "                            instance_count=training_instance_count.default_value,\n",
    "                            role=role,\n",
    "                            transformers_version='4.6',\n",
    "                            tensorflow_version='2.4',\n",
    "                            py_version='py37',  \n",
    "                            disable_profiler=True,\n",
    "                            debugger_hook_config=False,\n",
    "                            # model_dir=trained_model_s3_uri.default_value,\n",
    "                            # output_dir=trained_model_s3_uri.default_value,\n",
    "                            # output_path=trained_model_s3_uri.default_value,\n",
    "                            checkpoint_s3_uri=trained_model_s3_uri.default_value,\n",
    "                            hyperparameters=hyperparameters)"
   ]
  },
  {
   "cell_type": "code",
   "execution_count": 10,
   "metadata": {},
   "outputs": [
    {
     "data": {
      "text/plain": [
       "TrainingStep(name='train', step_type=<StepTypeEnum.TRAINING: 'Training'>, depends_on=None)"
      ]
     },
     "execution_count": 10,
     "metadata": {},
     "output_type": "execute_result"
    }
   ],
   "source": [
    "train_step = TrainingStep(name='train', \n",
    "                          estimator=huggingface_estimator)"
   ]
  },
  {
   "cell_type": "markdown",
   "metadata": {},
   "source": [
    "## 4. Define processing step for model deployment"
   ]
  },
  {
   "cell_type": "code",
   "execution_count": 11,
   "metadata": {},
   "outputs": [],
   "source": [
    "endpoint_name = f'hf-clf-{current_timestamp}'\n",
    "deploy_model_script_uri = f's3://{bucket}/pipeline/code/deploy.py'"
   ]
  },
  {
   "cell_type": "code",
   "execution_count": 12,
   "metadata": {},
   "outputs": [],
   "source": [
    "s3_client.upload_file(Filename='./src/deploy.py', Bucket=bucket, Key='pipeline/code/deploy.py')"
   ]
  },
  {
   "cell_type": "code",
   "execution_count": 13,
   "metadata": {},
   "outputs": [],
   "source": [
    "deploy_model_processor = SKLearnProcessor(framework_version='0.23-1', \n",
    "                                          role=role, \n",
    "                                          instance_type='ml.t3.medium', \n",
    "                                          instance_count=1, \n",
    "                                          base_job_name='deploy-processing-job', \n",
    "                                          sagemaker_session=session)"
   ]
  },
  {
   "cell_type": "code",
   "execution_count": 14,
   "metadata": {},
   "outputs": [],
   "source": [
    "deploy_step = ProcessingStep(name='deploy', \n",
    "                             depends_on=[train_step.name],\n",
    "                             processor=deploy_model_processor, \n",
    "                             job_arguments=['--model_name', endpoint_name, # reuse endpoint name \n",
    "                                            '--region', region, \n",
    "                                            '--deployment_instance_type', deployment_instance_type, \n",
    "                                            '--deployment_instance_count', str(deployment_instance_count), \n",
    "                                            '--model_s3_path', trained_model_s3_uri.default_value, \n",
    "                                            '--endpoint_name', endpoint_name], \n",
    "                             code=deploy_model_script_uri)"
   ]
  },
  {
   "cell_type": "code",
   "execution_count": 15,
   "metadata": {},
   "outputs": [
    {
     "data": {
      "text/plain": [
       "['train']"
      ]
     },
     "execution_count": 15,
     "metadata": {},
     "output_type": "execute_result"
    }
   ],
   "source": [
    "custom_dependencies = deploy_step.depends_on\n",
    "custom_dependencies"
   ]
  },
  {
   "cell_type": "markdown",
   "metadata": {},
   "source": [
    "## 5. Create Pipeline"
   ]
  },
  {
   "cell_type": "code",
   "execution_count": 16,
   "metadata": {},
   "outputs": [],
   "source": [
    "pipeline = Pipeline(name=pipeline_name, \n",
    "                    parameters=[training_instance_type,\n",
    "                                training_instance_count,\n",
    "                                deployment_instance_type,\n",
    "                                deployment_instance_count,\n",
    "                                trained_model_s3_uri], \n",
    "                    steps=[train_step, deploy_step], \n",
    "                    sagemaker_session=session)"
   ]
  },
  {
   "cell_type": "code",
   "execution_count": 18,
   "metadata": {},
   "outputs": [
    {
     "data": {
      "text/plain": [
       "{'Version': '2020-12-01',\n",
       " 'Metadata': {},\n",
       " 'Parameters': [{'Name': 'TrainingInstanceType',\n",
       "   'Type': 'String',\n",
       "   'DefaultValue': 'ml.p3.2xlarge'},\n",
       "  {'Name': 'TrainingInstanceCount', 'Type': 'Integer', 'DefaultValue': 1},\n",
       "  {'Name': 'DeploymentInstanceType',\n",
       "   'Type': 'String',\n",
       "   'DefaultValue': 'ml.m5.4xlarge'},\n",
       "  {'Name': 'DeploymentInstanceCount', 'Type': 'Integer', 'DefaultValue': 2},\n",
       "  {'Name': 'TrainedModelS3Uri',\n",
       "   'Type': 'String',\n",
       "   'DefaultValue': 's3://sagemaker-us-east-1-892313895307/pipeline/model'}],\n",
       " 'PipelineExperimentConfig': {'ExperimentName': {'Get': 'Execution.PipelineName'},\n",
       "  'TrialName': {'Get': 'Execution.PipelineExecutionId'}},\n",
       " 'Steps': [{'Name': 'train',\n",
       "   'Type': 'Training',\n",
       "   'Arguments': {'AlgorithmSpecification': {'TrainingInputMode': 'File',\n",
       "     'TrainingImage': '763104351884.dkr.ecr.us-east-1.amazonaws.com/huggingface-tensorflow-training:2.4-transformers4.6-gpu-py37-cu110-ubuntu18.04',\n",
       "     'EnableSageMakerMetricsTimeSeries': True},\n",
       "    'OutputDataConfig': {'S3OutputPath': 's3://sagemaker-us-east-1-892313895307/'},\n",
       "    'StoppingCondition': {'MaxRuntimeInSeconds': 86400},\n",
       "    'ResourceConfig': {'InstanceCount': 1,\n",
       "     'InstanceType': 'ml.p3.2xlarge',\n",
       "     'VolumeSizeInGB': 30},\n",
       "    'RoleArn': 'arn:aws:iam::892313895307:role/service-role/AmazonSageMaker-ExecutionRole-20210714T091788',\n",
       "    'HyperParameters': {'epochs': '1',\n",
       "     'train_batch_size': '16',\n",
       "     'model_name': '\"distilbert-base-uncased\"',\n",
       "     'model_s3': '\"s3://sagemaker-us-east-1-892313895307/pipeline/model\"',\n",
       "     'output_dir': '\"/opt/ml/checkpoints\"',\n",
       "     'sagemaker_submit_directory': '\"s3://sagemaker-us-east-1-892313895307/huggingface-tensorflow-training-2021-07-19-01-37-07-669/source/sourcedir.tar.gz\"',\n",
       "     'sagemaker_program': '\"train.py\"',\n",
       "     'sagemaker_container_log_level': '20',\n",
       "     'sagemaker_job_name': '\"huggingface-tensorflow-training-2021-07-19-01-37-07-669\"',\n",
       "     'sagemaker_region': '\"us-east-1\"'},\n",
       "    'CheckpointConfig': {'S3Uri': 's3://sagemaker-us-east-1-892313895307/pipeline/model'}}},\n",
       "  {'Name': 'deploy',\n",
       "   'Type': 'Processing',\n",
       "   'Arguments': {'ProcessingResources': {'ClusterConfig': {'InstanceType': 'ml.t3.medium',\n",
       "      'InstanceCount': 1,\n",
       "      'VolumeSizeInGB': 30}},\n",
       "    'AppSpecification': {'ImageUri': '683313688378.dkr.ecr.us-east-1.amazonaws.com/sagemaker-scikit-learn:0.23-1-cpu-py3',\n",
       "     'ContainerArguments': ['--model_name',\n",
       "      'hf-clf-07-19-01-37',\n",
       "      '--region',\n",
       "      'us-east-1',\n",
       "      '--deployment_instance_type',\n",
       "      {'Get': 'Parameters.DeploymentInstanceType'},\n",
       "      '--deployment_instance_count',\n",
       "      '2',\n",
       "      '--model_s3_path',\n",
       "      's3://sagemaker-us-east-1-892313895307/pipeline/model',\n",
       "      '--endpoint_name',\n",
       "      'hf-clf-07-19-01-37'],\n",
       "     'ContainerEntrypoint': ['python3',\n",
       "      '/opt/ml/processing/input/code/deploy.py']},\n",
       "    'RoleArn': 'arn:aws:iam::892313895307:role/service-role/AmazonSageMaker-ExecutionRole-20210714T091788',\n",
       "    'ProcessingInputs': [{'InputName': 'code',\n",
       "      'AppManaged': False,\n",
       "      'S3Input': {'S3Uri': 's3://sagemaker-us-east-1-892313895307/pipeline/code/deploy.py',\n",
       "       'LocalPath': '/opt/ml/processing/input/code',\n",
       "       'S3DataType': 'S3Prefix',\n",
       "       'S3InputMode': 'File',\n",
       "       'S3DataDistributionType': 'FullyReplicated',\n",
       "       'S3CompressionType': 'None'}}]},\n",
       "   'DependsOn': ['train']}]}"
      ]
     },
     "execution_count": 18,
     "metadata": {},
     "output_type": "execute_result"
    }
   ],
   "source": [
    "definition = json.loads(pipeline.definition())\n",
    "definition"
   ]
  },
  {
   "cell_type": "code",
   "execution_count": 19,
   "metadata": {},
   "outputs": [
    {
     "data": {
      "text/plain": [
       "{'PipelineArn': 'arn:aws:sagemaker:us-east-1:892313895307:pipeline/nlp-pipeline-07-19-01-37',\n",
       " 'ResponseMetadata': {'RequestId': '80f51c83-b2a3-4aad-af34-deba663607de',\n",
       "  'HTTPStatusCode': 200,\n",
       "  'HTTPHeaders': {'x-amzn-requestid': '80f51c83-b2a3-4aad-af34-deba663607de',\n",
       "   'content-type': 'application/x-amz-json-1.1',\n",
       "   'content-length': '92',\n",
       "   'date': 'Mon, 19 Jul 2021 01:37:07 GMT'},\n",
       "  'RetryAttempts': 0}}"
      ]
     },
     "execution_count": 19,
     "metadata": {},
     "output_type": "execute_result"
    }
   ],
   "source": [
    "response = pipeline.create(role_arn=role)\n",
    "response"
   ]
  },
  {
   "cell_type": "markdown",
   "metadata": {},
   "source": [
    "## 6. Execute Pipeline"
   ]
  },
  {
   "cell_type": "code",
   "execution_count": 20,
   "metadata": {},
   "outputs": [
    {
     "data": {
      "text/plain": [
       "'arn:aws:sagemaker:us-east-1:892313895307:pipeline/nlp-pipeline-07-19-01-37/execution/dsaajdp2h647'"
      ]
     },
     "execution_count": 20,
     "metadata": {},
     "output_type": "execute_result"
    }
   ],
   "source": [
    "execution = pipeline.start()\n",
    "execution.arn"
   ]
  },
  {
   "cell_type": "code",
   "execution_count": 21,
   "metadata": {},
   "outputs": [
    {
     "data": {
      "text/plain": [
       "{'PipelineArn': 'arn:aws:sagemaker:us-east-1:892313895307:pipeline/nlp-pipeline-07-19-01-37',\n",
       " 'PipelineExecutionArn': 'arn:aws:sagemaker:us-east-1:892313895307:pipeline/nlp-pipeline-07-19-01-37/execution/dsaajdp2h647',\n",
       " 'PipelineExecutionDisplayName': 'execution-1626658628689',\n",
       " 'PipelineExecutionStatus': 'Executing',\n",
       " 'CreationTime': datetime.datetime(2021, 7, 19, 1, 37, 8, 625000, tzinfo=tzlocal()),\n",
       " 'LastModifiedTime': datetime.datetime(2021, 7, 19, 1, 37, 8, 625000, tzinfo=tzlocal()),\n",
       " 'CreatedBy': {'UserProfileArn': 'arn:aws:sagemaker:us-east-1:892313895307:user-profile/d-dowart1jabkf/ts-zd-e2e',\n",
       "  'UserProfileName': 'ts-zd-e2e',\n",
       "  'DomainId': 'd-dowart1jabkf'},\n",
       " 'LastModifiedBy': {'UserProfileArn': 'arn:aws:sagemaker:us-east-1:892313895307:user-profile/d-dowart1jabkf/ts-zd-e2e',\n",
       "  'UserProfileName': 'ts-zd-e2e',\n",
       "  'DomainId': 'd-dowart1jabkf'},\n",
       " 'ResponseMetadata': {'RequestId': '40496380-c3ec-41e4-92cb-370ca8a8d652',\n",
       "  'HTTPStatusCode': 200,\n",
       "  'HTTPHeaders': {'x-amzn-requestid': '40496380-c3ec-41e4-92cb-370ca8a8d652',\n",
       "   'content-type': 'application/x-amz-json-1.1',\n",
       "   'content-length': '723',\n",
       "   'date': 'Mon, 19 Jul 2021 01:37:07 GMT'},\n",
       "  'RetryAttempts': 0}}"
      ]
     },
     "execution_count": 21,
     "metadata": {},
     "output_type": "execute_result"
    }
   ],
   "source": [
    "status = execution.describe()\n",
    "status"
   ]
  },
  {
   "cell_type": "code",
   "execution_count": null,
   "metadata": {},
   "outputs": [],
   "source": []
  },
  {
   "cell_type": "code",
   "execution_count": null,
   "metadata": {},
   "outputs": [],
   "source": []
  }
 ],
 "metadata": {
  "instance_type": "ml.t3.medium",
  "kernelspec": {
   "display_name": "Python 3 (Data Science)",
   "language": "python",
   "name": "python3__SAGEMAKER_INTERNAL__arn:aws:sagemaker:us-east-1:081325390199:image/datascience-1.0"
  },
  "language_info": {
   "codemirror_mode": {
    "name": "ipython",
    "version": 3
   },
   "file_extension": ".py",
   "mimetype": "text/x-python",
   "name": "python",
   "nbconvert_exporter": "python",
   "pygments_lexer": "ipython3",
   "version": "3.7.10"
  }
 },
 "nbformat": 4,
 "nbformat_minor": 4
}
